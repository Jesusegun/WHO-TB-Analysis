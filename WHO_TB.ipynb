{
 "cells": [
  {
   "cell_type": "code",
   "execution_count": 1,
   "metadata": {},
   "outputs": [],
   "source": [
    "import numpy as np\n",
    "import pandas as pd\n",
    "import matplotlib.pyplot as plt\n",
    "import seaborn as sns"
   ]
  },
  {
   "cell_type": "code",
   "execution_count": 3,
   "metadata": {},
   "outputs": [],
   "source": [
    "estimates_df = pd.read_excel('WHO TB dataset_2024-03-21.xlsx', sheet_name='LTBI_estimates_2024-03-21')"
   ]
  },
  {
   "cell_type": "code",
   "execution_count": 4,
   "metadata": {},
   "outputs": [
    {
     "data": {
      "text/html": [
       "<div>\n",
       "<style scoped>\n",
       "    .dataframe tbody tr th:only-of-type {\n",
       "        vertical-align: middle;\n",
       "    }\n",
       "\n",
       "    .dataframe tbody tr th {\n",
       "        vertical-align: top;\n",
       "    }\n",
       "\n",
       "    .dataframe thead th {\n",
       "        text-align: right;\n",
       "    }\n",
       "</style>\n",
       "<table border=\"1\" class=\"dataframe\">\n",
       "  <thead>\n",
       "    <tr style=\"text-align: right;\">\n",
       "      <th></th>\n",
       "      <th>country</th>\n",
       "      <th>iso2</th>\n",
       "      <th>iso3</th>\n",
       "      <th>iso_numeric</th>\n",
       "      <th>g_whoregion</th>\n",
       "      <th>year</th>\n",
       "      <th>source_hh</th>\n",
       "      <th>e_hh_size</th>\n",
       "      <th>prevtx_data_available</th>\n",
       "      <th>newinc_con_prevtx</th>\n",
       "      <th>...</th>\n",
       "      <th>e_hh_contacts_hi</th>\n",
       "      <th>e_prevtx_hh_contacts_pct</th>\n",
       "      <th>e_prevtx_hh_contacts_pct_lo</th>\n",
       "      <th>e_prevtx_hh_contacts_pct_hi</th>\n",
       "      <th>e_prevtx_eligible</th>\n",
       "      <th>e_prevtx_eligible_lo</th>\n",
       "      <th>e_prevtx_eligible_hi</th>\n",
       "      <th>e_prevtx_kids_pct</th>\n",
       "      <th>e_prevtx_kids_pct_lo</th>\n",
       "      <th>e_prevtx_kids_pct_hi</th>\n",
       "    </tr>\n",
       "  </thead>\n",
       "  <tbody>\n",
       "    <tr>\n",
       "      <th>0</th>\n",
       "      <td>Afghanistan</td>\n",
       "      <td>AF</td>\n",
       "      <td>AFG</td>\n",
       "      <td>4</td>\n",
       "      <td>EMR</td>\n",
       "      <td>2022</td>\n",
       "      <td>DHS; 2015-10-19</td>\n",
       "      <td>8.036738</td>\n",
       "      <td>60.0</td>\n",
       "      <td>32250.0</td>\n",
       "      <td>...</td>\n",
       "      <td>170000.0</td>\n",
       "      <td>19.0</td>\n",
       "      <td>18.0</td>\n",
       "      <td>19.0</td>\n",
       "      <td>30000.0</td>\n",
       "      <td>27000.0</td>\n",
       "      <td>32000.0</td>\n",
       "      <td>100.0</td>\n",
       "      <td>100.0</td>\n",
       "      <td>100.0</td>\n",
       "    </tr>\n",
       "    <tr>\n",
       "      <th>1</th>\n",
       "      <td>Albania</td>\n",
       "      <td>AL</td>\n",
       "      <td>ALB</td>\n",
       "      <td>8</td>\n",
       "      <td>EUR</td>\n",
       "      <td>2022</td>\n",
       "      <td>DHS; 2017-12-01</td>\n",
       "      <td>3.299611</td>\n",
       "      <td>60.0</td>\n",
       "      <td>21.0</td>\n",
       "      <td>...</td>\n",
       "      <td>410.0</td>\n",
       "      <td>5.3</td>\n",
       "      <td>5.1</td>\n",
       "      <td>5.4</td>\n",
       "      <td>7.5</td>\n",
       "      <td>4.8</td>\n",
       "      <td>10.0</td>\n",
       "      <td>27.0</td>\n",
       "      <td>20.0</td>\n",
       "      <td>42.0</td>\n",
       "    </tr>\n",
       "    <tr>\n",
       "      <th>2</th>\n",
       "      <td>Algeria</td>\n",
       "      <td>DZ</td>\n",
       "      <td>DZA</td>\n",
       "      <td>12</td>\n",
       "      <td>AFR</td>\n",
       "      <td>2022</td>\n",
       "      <td>Dépenses de consommation des ménages algériens...</td>\n",
       "      <td>6.000000</td>\n",
       "      <td>60.0</td>\n",
       "      <td>1091.0</td>\n",
       "      <td>...</td>\n",
       "      <td>24000.0</td>\n",
       "      <td>4.6</td>\n",
       "      <td>4.5</td>\n",
       "      <td>4.7</td>\n",
       "      <td>800.0</td>\n",
       "      <td>520.0</td>\n",
       "      <td>1100.0</td>\n",
       "      <td>100.0</td>\n",
       "      <td>100.0</td>\n",
       "      <td>100.0</td>\n",
       "    </tr>\n",
       "    <tr>\n",
       "      <th>3</th>\n",
       "      <td>Angola</td>\n",
       "      <td>AO</td>\n",
       "      <td>AGO</td>\n",
       "      <td>24</td>\n",
       "      <td>AFR</td>\n",
       "      <td>2022</td>\n",
       "      <td>DHS; 2016-01-01</td>\n",
       "      <td>4.815657</td>\n",
       "      <td>0.0</td>\n",
       "      <td>NaN</td>\n",
       "      <td>...</td>\n",
       "      <td>130000.0</td>\n",
       "      <td>NaN</td>\n",
       "      <td>NaN</td>\n",
       "      <td>NaN</td>\n",
       "      <td>26000.0</td>\n",
       "      <td>23000.0</td>\n",
       "      <td>28000.0</td>\n",
       "      <td>NaN</td>\n",
       "      <td>NaN</td>\n",
       "      <td>NaN</td>\n",
       "    </tr>\n",
       "    <tr>\n",
       "      <th>4</th>\n",
       "      <td>Argentina</td>\n",
       "      <td>AR</td>\n",
       "      <td>ARG</td>\n",
       "      <td>32</td>\n",
       "      <td>AMR</td>\n",
       "      <td>2022</td>\n",
       "      <td>DYB; 2010-07-01</td>\n",
       "      <td>3.258658</td>\n",
       "      <td>0.0</td>\n",
       "      <td>NaN</td>\n",
       "      <td>...</td>\n",
       "      <td>19000.0</td>\n",
       "      <td>NaN</td>\n",
       "      <td>NaN</td>\n",
       "      <td>NaN</td>\n",
       "      <td>490.0</td>\n",
       "      <td>320.0</td>\n",
       "      <td>670.0</td>\n",
       "      <td>NaN</td>\n",
       "      <td>NaN</td>\n",
       "      <td>NaN</td>\n",
       "    </tr>\n",
       "  </tbody>\n",
       "</table>\n",
       "<p>5 rows × 25 columns</p>\n",
       "</div>"
      ],
      "text/plain": [
       "       country iso2 iso3  iso_numeric g_whoregion  year  \\\n",
       "0  Afghanistan   AF  AFG            4         EMR  2022   \n",
       "1      Albania   AL  ALB            8         EUR  2022   \n",
       "2      Algeria   DZ  DZA           12         AFR  2022   \n",
       "3       Angola   AO  AGO           24         AFR  2022   \n",
       "4    Argentina   AR  ARG           32         AMR  2022   \n",
       "\n",
       "                                           source_hh  e_hh_size  \\\n",
       "0                                    DHS; 2015-10-19   8.036738   \n",
       "1                                    DHS; 2017-12-01   3.299611   \n",
       "2  Dépenses de consommation des ménages algériens...   6.000000   \n",
       "3                                    DHS; 2016-01-01   4.815657   \n",
       "4                                    DYB; 2010-07-01   3.258658   \n",
       "\n",
       "   prevtx_data_available  newinc_con_prevtx  ...  e_hh_contacts_hi  \\\n",
       "0                   60.0            32250.0  ...          170000.0   \n",
       "1                   60.0               21.0  ...             410.0   \n",
       "2                   60.0             1091.0  ...           24000.0   \n",
       "3                    0.0                NaN  ...          130000.0   \n",
       "4                    0.0                NaN  ...           19000.0   \n",
       "\n",
       "   e_prevtx_hh_contacts_pct  e_prevtx_hh_contacts_pct_lo  \\\n",
       "0                      19.0                         18.0   \n",
       "1                       5.3                          5.1   \n",
       "2                       4.6                          4.5   \n",
       "3                       NaN                          NaN   \n",
       "4                       NaN                          NaN   \n",
       "\n",
       "   e_prevtx_hh_contacts_pct_hi  e_prevtx_eligible  e_prevtx_eligible_lo  \\\n",
       "0                         19.0            30000.0               27000.0   \n",
       "1                          5.4                7.5                   4.8   \n",
       "2                          4.7              800.0                 520.0   \n",
       "3                          NaN            26000.0               23000.0   \n",
       "4                          NaN              490.0                 320.0   \n",
       "\n",
       "   e_prevtx_eligible_hi  e_prevtx_kids_pct  e_prevtx_kids_pct_lo  \\\n",
       "0               32000.0              100.0                 100.0   \n",
       "1                  10.0               27.0                  20.0   \n",
       "2                1100.0              100.0                 100.0   \n",
       "3               28000.0                NaN                   NaN   \n",
       "4                 670.0                NaN                   NaN   \n",
       "\n",
       "   e_prevtx_kids_pct_hi  \n",
       "0                 100.0  \n",
       "1                  42.0  \n",
       "2                 100.0  \n",
       "3                   NaN  \n",
       "4                   NaN  \n",
       "\n",
       "[5 rows x 25 columns]"
      ]
     },
     "execution_count": 4,
     "metadata": {},
     "output_type": "execute_result"
    }
   ],
   "source": [
    "estimates_df.head()"
   ]
  },
  {
   "cell_type": "code",
   "execution_count": 5,
   "metadata": {},
   "outputs": [
    {
     "name": "stdout",
     "output_type": "stream",
     "text": [
      "<class 'pandas.core.frame.DataFrame'>\n",
      "RangeIndex: 182 entries, 0 to 181\n",
      "Data columns (total 25 columns):\n",
      " #   Column                        Non-Null Count  Dtype  \n",
      "---  ------                        --------------  -----  \n",
      " 0   country                       182 non-null    object \n",
      " 1   iso2                          181 non-null    object \n",
      " 2   iso3                          182 non-null    object \n",
      " 3   iso_numeric                   182 non-null    int64  \n",
      " 4   g_whoregion                   182 non-null    object \n",
      " 5   year                          182 non-null    int64  \n",
      " 6   source_hh                     182 non-null    object \n",
      " 7   e_hh_size                     182 non-null    float64\n",
      " 8   prevtx_data_available         165 non-null    float64\n",
      " 9   newinc_con_prevtx             128 non-null    float64\n",
      " 10  newinc_con04_prevtx           123 non-null    float64\n",
      " 11  ptsurvey_newinc               0 non-null      float64\n",
      " 12  ptsurvey_newinc_con04_prevtx  0 non-null      float64\n",
      " 13  e_hh_contacts                 179 non-null    float64\n",
      " 14  e_hh_contacts_lo              179 non-null    float64\n",
      " 15  e_hh_contacts_hi              179 non-null    float64\n",
      " 16  e_prevtx_hh_contacts_pct      127 non-null    float64\n",
      " 17  e_prevtx_hh_contacts_pct_lo   127 non-null    float64\n",
      " 18  e_prevtx_hh_contacts_pct_hi   127 non-null    float64\n",
      " 19  e_prevtx_eligible             179 non-null    float64\n",
      " 20  e_prevtx_eligible_lo          179 non-null    float64\n",
      " 21  e_prevtx_eligible_hi          179 non-null    float64\n",
      " 22  e_prevtx_kids_pct             130 non-null    float64\n",
      " 23  e_prevtx_kids_pct_lo          130 non-null    float64\n",
      " 24  e_prevtx_kids_pct_hi          130 non-null    float64\n",
      "dtypes: float64(18), int64(2), object(5)\n",
      "memory usage: 35.7+ KB\n"
     ]
    }
   ],
   "source": [
    "estimates_df.info()"
   ]
  },
  {
   "cell_type": "code",
   "execution_count": 6,
   "metadata": {},
   "outputs": [],
   "source": [
    "estimates_df = estimates_df.drop(['ptsurvey_newinc','ptsurvey_newinc_con04_prevtx'],axis=1)"
   ]
  },
  {
   "cell_type": "code",
   "execution_count": 7,
   "metadata": {},
   "outputs": [
    {
     "data": {
      "text/html": [
       "<div>\n",
       "<style scoped>\n",
       "    .dataframe tbody tr th:only-of-type {\n",
       "        vertical-align: middle;\n",
       "    }\n",
       "\n",
       "    .dataframe tbody tr th {\n",
       "        vertical-align: top;\n",
       "    }\n",
       "\n",
       "    .dataframe thead th {\n",
       "        text-align: right;\n",
       "    }\n",
       "</style>\n",
       "<table border=\"1\" class=\"dataframe\">\n",
       "  <thead>\n",
       "    <tr style=\"text-align: right;\">\n",
       "      <th></th>\n",
       "      <th>country</th>\n",
       "      <th>iso2</th>\n",
       "      <th>iso3</th>\n",
       "      <th>iso_numeric</th>\n",
       "      <th>g_whoregion</th>\n",
       "      <th>year</th>\n",
       "      <th>source_hh</th>\n",
       "      <th>e_hh_size</th>\n",
       "      <th>prevtx_data_available</th>\n",
       "      <th>newinc_con_prevtx</th>\n",
       "      <th>...</th>\n",
       "      <th>e_hh_contacts_hi</th>\n",
       "      <th>e_prevtx_hh_contacts_pct</th>\n",
       "      <th>e_prevtx_hh_contacts_pct_lo</th>\n",
       "      <th>e_prevtx_hh_contacts_pct_hi</th>\n",
       "      <th>e_prevtx_eligible</th>\n",
       "      <th>e_prevtx_eligible_lo</th>\n",
       "      <th>e_prevtx_eligible_hi</th>\n",
       "      <th>e_prevtx_kids_pct</th>\n",
       "      <th>e_prevtx_kids_pct_lo</th>\n",
       "      <th>e_prevtx_kids_pct_hi</th>\n",
       "    </tr>\n",
       "  </thead>\n",
       "  <tbody>\n",
       "    <tr>\n",
       "      <th>38</th>\n",
       "      <td>Comoros</td>\n",
       "      <td>KM</td>\n",
       "      <td>COM</td>\n",
       "      <td>174</td>\n",
       "      <td>AFR</td>\n",
       "      <td>2022</td>\n",
       "      <td>DHS; 2012-10-15</td>\n",
       "      <td>5.371601</td>\n",
       "      <td>NaN</td>\n",
       "      <td>NaN</td>\n",
       "      <td>...</td>\n",
       "      <td>NaN</td>\n",
       "      <td>NaN</td>\n",
       "      <td>NaN</td>\n",
       "      <td>NaN</td>\n",
       "      <td>NaN</td>\n",
       "      <td>NaN</td>\n",
       "      <td>NaN</td>\n",
       "      <td>NaN</td>\n",
       "      <td>NaN</td>\n",
       "      <td>NaN</td>\n",
       "    </tr>\n",
       "    <tr>\n",
       "      <th>155</th>\n",
       "      <td>Sudan</td>\n",
       "      <td>SD</td>\n",
       "      <td>SDN</td>\n",
       "      <td>729</td>\n",
       "      <td>EMR</td>\n",
       "      <td>2022</td>\n",
       "      <td>IPUMS; 2008-07-01</td>\n",
       "      <td>5.590376</td>\n",
       "      <td>NaN</td>\n",
       "      <td>NaN</td>\n",
       "      <td>...</td>\n",
       "      <td>NaN</td>\n",
       "      <td>NaN</td>\n",
       "      <td>NaN</td>\n",
       "      <td>NaN</td>\n",
       "      <td>NaN</td>\n",
       "      <td>NaN</td>\n",
       "      <td>NaN</td>\n",
       "      <td>NaN</td>\n",
       "      <td>NaN</td>\n",
       "      <td>NaN</td>\n",
       "    </tr>\n",
       "    <tr>\n",
       "      <th>164</th>\n",
       "      <td>Tokelau</td>\n",
       "      <td>TK</td>\n",
       "      <td>TKL</td>\n",
       "      <td>772</td>\n",
       "      <td>WPR</td>\n",
       "      <td>2022</td>\n",
       "      <td>DYB; 2011-07-01</td>\n",
       "      <td>5.243902</td>\n",
       "      <td>NaN</td>\n",
       "      <td>NaN</td>\n",
       "      <td>...</td>\n",
       "      <td>NaN</td>\n",
       "      <td>NaN</td>\n",
       "      <td>NaN</td>\n",
       "      <td>NaN</td>\n",
       "      <td>NaN</td>\n",
       "      <td>NaN</td>\n",
       "      <td>NaN</td>\n",
       "      <td>NaN</td>\n",
       "      <td>NaN</td>\n",
       "      <td>NaN</td>\n",
       "    </tr>\n",
       "  </tbody>\n",
       "</table>\n",
       "<p>3 rows × 23 columns</p>\n",
       "</div>"
      ],
      "text/plain": [
       "     country iso2 iso3  iso_numeric g_whoregion  year          source_hh  \\\n",
       "38   Comoros   KM  COM          174         AFR  2022    DHS; 2012-10-15   \n",
       "155    Sudan   SD  SDN          729         EMR  2022  IPUMS; 2008-07-01   \n",
       "164  Tokelau   TK  TKL          772         WPR  2022    DYB; 2011-07-01   \n",
       "\n",
       "     e_hh_size  prevtx_data_available  newinc_con_prevtx  ...  \\\n",
       "38    5.371601                    NaN                NaN  ...   \n",
       "155   5.590376                    NaN                NaN  ...   \n",
       "164   5.243902                    NaN                NaN  ...   \n",
       "\n",
       "     e_hh_contacts_hi  e_prevtx_hh_contacts_pct  e_prevtx_hh_contacts_pct_lo  \\\n",
       "38                NaN                       NaN                          NaN   \n",
       "155               NaN                       NaN                          NaN   \n",
       "164               NaN                       NaN                          NaN   \n",
       "\n",
       "     e_prevtx_hh_contacts_pct_hi  e_prevtx_eligible  e_prevtx_eligible_lo  \\\n",
       "38                           NaN                NaN                   NaN   \n",
       "155                          NaN                NaN                   NaN   \n",
       "164                          NaN                NaN                   NaN   \n",
       "\n",
       "     e_prevtx_eligible_hi  e_prevtx_kids_pct  e_prevtx_kids_pct_lo  \\\n",
       "38                    NaN                NaN                   NaN   \n",
       "155                   NaN                NaN                   NaN   \n",
       "164                   NaN                NaN                   NaN   \n",
       "\n",
       "     e_prevtx_kids_pct_hi  \n",
       "38                    NaN  \n",
       "155                   NaN  \n",
       "164                   NaN  \n",
       "\n",
       "[3 rows x 23 columns]"
      ]
     },
     "execution_count": 7,
     "metadata": {},
     "output_type": "execute_result"
    }
   ],
   "source": [
    "estimates_df[estimates_df['e_hh_contacts'].isnull()]"
   ]
  },
  {
   "cell_type": "code",
   "execution_count": 8,
   "metadata": {},
   "outputs": [],
   "source": [
    "estimates_df=estimates_df.drop([38,155,164],axis=0)"
   ]
  },
  {
   "cell_type": "code",
   "execution_count": 9,
   "metadata": {},
   "outputs": [],
   "source": [
    "highest_household_contact = estimates_df.sort_values('e_hh_contacts',ascending=False).head(10)[['country','e_hh_contacts','e_prevtx_hh_contacts_pct']]"
   ]
  },
  {
   "cell_type": "code",
   "execution_count": 10,
   "metadata": {},
   "outputs": [
    {
     "data": {
      "text/html": [
       "<div>\n",
       "<style scoped>\n",
       "    .dataframe tbody tr th:only-of-type {\n",
       "        vertical-align: middle;\n",
       "    }\n",
       "\n",
       "    .dataframe tbody tr th {\n",
       "        vertical-align: top;\n",
       "    }\n",
       "\n",
       "    .dataframe thead th {\n",
       "        text-align: right;\n",
       "    }\n",
       "</style>\n",
       "<table border=\"1\" class=\"dataframe\">\n",
       "  <thead>\n",
       "    <tr style=\"text-align: right;\">\n",
       "      <th></th>\n",
       "      <th>country</th>\n",
       "      <th>e_hh_contacts</th>\n",
       "      <th>e_prevtx_hh_contacts_pct</th>\n",
       "    </tr>\n",
       "  </thead>\n",
       "  <tbody>\n",
       "    <tr>\n",
       "      <th>76</th>\n",
       "      <td>India</td>\n",
       "      <td>3600000.0</td>\n",
       "      <td>22.0</td>\n",
       "    </tr>\n",
       "    <tr>\n",
       "      <th>123</th>\n",
       "      <td>Pakistan</td>\n",
       "      <td>960000.0</td>\n",
       "      <td>1.1</td>\n",
       "    </tr>\n",
       "    <tr>\n",
       "      <th>77</th>\n",
       "      <td>Indonesia</td>\n",
       "      <td>940000.0</td>\n",
       "      <td>1.9</td>\n",
       "    </tr>\n",
       "    <tr>\n",
       "      <th>118</th>\n",
       "      <td>Nigeria</td>\n",
       "      <td>820000.0</td>\n",
       "      <td>14.0</td>\n",
       "    </tr>\n",
       "    <tr>\n",
       "      <th>34</th>\n",
       "      <td>China</td>\n",
       "      <td>650000.0</td>\n",
       "      <td>1.2</td>\n",
       "    </tr>\n",
       "    <tr>\n",
       "      <th>128</th>\n",
       "      <td>Philippines</td>\n",
       "      <td>610000.0</td>\n",
       "      <td>5.5</td>\n",
       "    </tr>\n",
       "    <tr>\n",
       "      <th>47</th>\n",
       "      <td>Democratic Republic of the Congo</td>\n",
       "      <td>580000.0</td>\n",
       "      <td>15.0</td>\n",
       "    </tr>\n",
       "    <tr>\n",
       "      <th>12</th>\n",
       "      <td>Bangladesh</td>\n",
       "      <td>470000.0</td>\n",
       "      <td>33.0</td>\n",
       "    </tr>\n",
       "    <tr>\n",
       "      <th>151</th>\n",
       "      <td>South Africa</td>\n",
       "      <td>290000.0</td>\n",
       "      <td>6.0</td>\n",
       "    </tr>\n",
       "    <tr>\n",
       "      <th>169</th>\n",
       "      <td>Uganda</td>\n",
       "      <td>190000.0</td>\n",
       "      <td>73.0</td>\n",
       "    </tr>\n",
       "  </tbody>\n",
       "</table>\n",
       "</div>"
      ],
      "text/plain": [
       "                              country  e_hh_contacts  e_prevtx_hh_contacts_pct\n",
       "76                              India      3600000.0                      22.0\n",
       "123                          Pakistan       960000.0                       1.1\n",
       "77                          Indonesia       940000.0                       1.9\n",
       "118                           Nigeria       820000.0                      14.0\n",
       "34                              China       650000.0                       1.2\n",
       "128                       Philippines       610000.0                       5.5\n",
       "47   Democratic Republic of the Congo       580000.0                      15.0\n",
       "12                         Bangladesh       470000.0                      33.0\n",
       "151                      South Africa       290000.0                       6.0\n",
       "169                            Uganda       190000.0                      73.0"
      ]
     },
     "execution_count": 10,
     "metadata": {},
     "output_type": "execute_result"
    }
   ],
   "source": [
    "highest_household_contact"
   ]
  },
  {
   "attachments": {},
   "cell_type": "markdown",
   "metadata": {},
   "source": [
    "**The table above shows the 10 countries with the highest household contacts of people newly diagnosed with pulmonary TB disease and the percentage of household contacts provided with TB preventive treatment. The low percentages given TB preventive treatment is a thing of concern and should be adressed worldwide**"
   ]
  },
  {
   "cell_type": "code",
   "execution_count": 15,
   "metadata": {},
   "outputs": [
    {
     "data": {
      "text/plain": [
       "Text(0, 0.5, ' percentagee provided with TB preventive treatment')"
      ]
     },
     "execution_count": 15,
     "metadata": {},
     "output_type": "execute_result"
    },
    {
     "data": {
      "image/png": "[encoded data removed]",
      "text/plain": [
       "<Figure size 1200x600 with 1 Axes>"
      ]
     },
     "metadata": {
      "needs_background": "light"
     },
     "output_type": "display_data"
    }
   ],
   "source": [
    "\n",
    "plt.figure(figsize=(8,4),dpi=150)\n",
    "sns.scatterplot(data=estimates_df,x='e_hh_contacts',y='e_prevtx_hh_contacts_pct',hue='g_whoregion')\n",
    "plt.xlabel('Estimated number of household contacts of people newly diagnosed')\n",
    "plt.ylabel(' percentagee provided with TB preventive treatment')"
   ]
  },
  {
   "cell_type": "code",
   "execution_count": 16,
   "metadata": {},
   "outputs": [],
   "source": [
    "outcomes_df = pd.read_excel('WHO TB dataset_2024-03-21.xlsx', sheet_name='TB_outcomes_2024-03-21')"
   ]
  },
  {
   "cell_type": "code",
   "execution_count": 17,
   "metadata": {},
   "outputs": [
    {
     "name": "stdout",
     "output_type": "stream",
     "text": [
      "<class 'pandas.core.frame.DataFrame'>\n",
      "RangeIndex: 5969 entries, 0 to 5968\n",
      "Data columns (total 73 columns):\n",
      " #   Column              Non-Null Count  Dtype  \n",
      "---  ------              --------------  -----  \n",
      " 0   country             5969 non-null   object \n",
      " 1   iso2                5941 non-null   object \n",
      " 2   iso3                5969 non-null   object \n",
      " 3   iso_numeric         5969 non-null   int64  \n",
      " 4   g_whoregion         5969 non-null   object \n",
      " 5   year                5969 non-null   int64  \n",
      " 6   rep_meth            3034 non-null   float64\n",
      " 7   new_sp_coh          3052 non-null   float64\n",
      " 8   new_sp_cur          2945 non-null   float64\n",
      " 9   new_sp_cmplt        2943 non-null   float64\n",
      " 10  new_sp_died         2992 non-null   float64\n",
      " 11  new_sp_fail         2876 non-null   float64\n",
      " 12  new_sp_def          2954 non-null   float64\n",
      " 13  c_new_sp_tsr        3006 non-null   float64\n",
      " 14  new_snep_coh        1301 non-null   float64\n",
      " 15  new_snep_cmplt      1289 non-null   float64\n",
      " 16  new_snep_died       1267 non-null   float64\n",
      " 17  new_snep_fail       1189 non-null   float64\n",
      " 18  new_snep_def        1259 non-null   float64\n",
      " 19  c_new_snep_tsr      1220 non-null   float64\n",
      " 20  ret_coh             2402 non-null   float64\n",
      " 21  ret_cur             2341 non-null   float64\n",
      " 22  ret_cmplt           2322 non-null   float64\n",
      " 23  ret_died            2321 non-null   float64\n",
      " 24  ret_fail            2272 non-null   float64\n",
      " 25  ret_def             2317 non-null   float64\n",
      " 26  hiv_new_sp_coh      819 non-null    float64\n",
      " 27  hiv_new_sp_cur      771 non-null    float64\n",
      " 28  hiv_new_sp_cmplt    767 non-null    float64\n",
      " 29  hiv_new_sp_died     782 non-null    float64\n",
      " 30  hiv_new_sp_fail     736 non-null    float64\n",
      " 31  hiv_new_sp_def      752 non-null    float64\n",
      " 32  hiv_new_snep_coh    767 non-null    float64\n",
      " 33  hiv_new_snep_cmplt  748 non-null    float64\n",
      " 34  hiv_new_snep_died   720 non-null    float64\n",
      " 35  hiv_new_snep_fail   682 non-null    float64\n",
      " 36  hiv_new_snep_def    711 non-null    float64\n",
      " 37  hiv_ret_coh         732 non-null    float64\n",
      " 38  hiv_ret_cur         688 non-null    float64\n",
      " 39  hiv_ret_cmplt       693 non-null    float64\n",
      " 40  hiv_ret_died        697 non-null    float64\n",
      " 41  hiv_ret_fail        675 non-null    float64\n",
      " 42  hiv_ret_def         692 non-null    float64\n",
      " 43  rel_with_new_flg    1973 non-null   float64\n",
      " 44  used_2021_defs_flg  388 non-null    float64\n",
      " 45  newrel_coh          1969 non-null   float64\n",
      " 46  newrel_succ         1958 non-null   float64\n",
      " 47  newrel_fail         1931 non-null   float64\n",
      " 48  newrel_died         1946 non-null   float64\n",
      " 49  newrel_lost         1938 non-null   float64\n",
      " 50  c_new_tsr           4933 non-null   float64\n",
      " 51  ret_nrel_coh        1845 non-null   float64\n",
      " 52  ret_nrel_succ       1822 non-null   float64\n",
      " 53  ret_nrel_fail       1816 non-null   float64\n",
      " 54  ret_nrel_died       1816 non-null   float64\n",
      " 55  ret_nrel_lost       1814 non-null   float64\n",
      " 56  c_ret_tsr           3663 non-null   float64\n",
      " 57  tbhiv_coh           1622 non-null   float64\n",
      " 58  tbhiv_succ          1589 non-null   float64\n",
      " 59  tbhiv_fail          1584 non-null   float64\n",
      " 60  tbhiv_died          1589 non-null   float64\n",
      " 61  tbhiv_lost          1584 non-null   float64\n",
      " 62  c_tbhiv_tsr         1874 non-null   float64\n",
      " 63  mdr_coh             2694 non-null   float64\n",
      " 64  mdr_succ            2619 non-null   float64\n",
      " 65  mdr_fail            2537 non-null   float64\n",
      " 66  mdr_died            2587 non-null   float64\n",
      " 67  mdr_lost            2572 non-null   float64\n",
      " 68  xdr_coh             2078 non-null   float64\n",
      " 69  xdr_succ            1980 non-null   float64\n",
      " 70  xdr_fail            1965 non-null   float64\n",
      " 71  xdr_died            1970 non-null   float64\n",
      " 72  xdr_lost            1965 non-null   float64\n",
      "dtypes: float64(67), int64(2), object(4)\n",
      "memory usage: 3.3+ MB\n"
     ]
    }
   ],
   "source": [
    "outcomes_df.info()"
   ]
  },
  {
   "cell_type": "markdown",
   "metadata": {},
   "source": [
    "## MultiDrug-Resistant Tuberculosis (MDR)"
   ]
  },
  {
   "cell_type": "markdown",
   "metadata": {},
   "source": [
    "**This is a form of tuberculosis caused by bacteria that are resistant to first-line treatment drugs like isoniazid and rifampicin. It is more challenging to treat than drug susceptible tuberculosis**"
   ]
  },
  {
   "cell_type": "code",
   "execution_count": 18,
   "metadata": {},
   "outputs": [],
   "source": [
    "mdr_df = outcomes_df.groupby(by=['year']).sum()[['mdr_coh','mdr_died','mdr_fail','mdr_lost','mdr_succ']]"
   ]
  },
  {
   "cell_type": "code",
   "execution_count": 19,
   "metadata": {},
   "outputs": [],
   "source": [
    "mdr_df = mdr_df.drop([1994,1995,1996,1997,1998,1999,2000,2001,2002,2003,2004,2005,2006,2001,2007,2008,2009,2021])"
   ]
  },
  {
   "cell_type": "code",
   "execution_count": 20,
   "metadata": {},
   "outputs": [
    {
     "data": {
      "text/html": [
       "<div>\n",
       "<style scoped>\n",
       "    .dataframe tbody tr th:only-of-type {\n",
       "        vertical-align: middle;\n",
       "    }\n",
       "\n",
       "    .dataframe tbody tr th {\n",
       "        vertical-align: top;\n",
       "    }\n",
       "\n",
       "    .dataframe thead th {\n",
       "        text-align: right;\n",
       "    }\n",
       "</style>\n",
       "<table border=\"1\" class=\"dataframe\">\n",
       "  <thead>\n",
       "    <tr style=\"text-align: right;\">\n",
       "      <th></th>\n",
       "      <th>mdr_coh</th>\n",
       "      <th>mdr_died</th>\n",
       "      <th>mdr_fail</th>\n",
       "      <th>mdr_lost</th>\n",
       "      <th>mdr_succ</th>\n",
       "    </tr>\n",
       "    <tr>\n",
       "      <th>year</th>\n",
       "      <th></th>\n",
       "      <th></th>\n",
       "      <th></th>\n",
       "      <th></th>\n",
       "      <th></th>\n",
       "    </tr>\n",
       "  </thead>\n",
       "  <tbody>\n",
       "    <tr>\n",
       "      <th>2010</th>\n",
       "      <td>35432.0</td>\n",
       "      <td>5345.0</td>\n",
       "      <td>3204.0</td>\n",
       "      <td>5154.0</td>\n",
       "      <td>17573.0</td>\n",
       "    </tr>\n",
       "    <tr>\n",
       "      <th>2011</th>\n",
       "      <td>52481.0</td>\n",
       "      <td>8608.0</td>\n",
       "      <td>5744.0</td>\n",
       "      <td>8396.0</td>\n",
       "      <td>25286.0</td>\n",
       "    </tr>\n",
       "    <tr>\n",
       "      <th>2012</th>\n",
       "      <td>74011.0</td>\n",
       "      <td>12333.0</td>\n",
       "      <td>6890.0</td>\n",
       "      <td>12145.0</td>\n",
       "      <td>37060.0</td>\n",
       "    </tr>\n",
       "    <tr>\n",
       "      <th>2013</th>\n",
       "      <td>92307.0</td>\n",
       "      <td>15667.0</td>\n",
       "      <td>7968.0</td>\n",
       "      <td>14371.0</td>\n",
       "      <td>47982.0</td>\n",
       "    </tr>\n",
       "    <tr>\n",
       "      <th>2014</th>\n",
       "      <td>103002.0</td>\n",
       "      <td>16936.0</td>\n",
       "      <td>8464.0</td>\n",
       "      <td>15061.0</td>\n",
       "      <td>55854.0</td>\n",
       "    </tr>\n",
       "    <tr>\n",
       "      <th>2015</th>\n",
       "      <td>114238.0</td>\n",
       "      <td>17629.0</td>\n",
       "      <td>9300.0</td>\n",
       "      <td>16170.0</td>\n",
       "      <td>63251.0</td>\n",
       "    </tr>\n",
       "    <tr>\n",
       "      <th>2016</th>\n",
       "      <td>126173.0</td>\n",
       "      <td>19029.0</td>\n",
       "      <td>9698.0</td>\n",
       "      <td>18772.0</td>\n",
       "      <td>71112.0</td>\n",
       "    </tr>\n",
       "    <tr>\n",
       "      <th>2017</th>\n",
       "      <td>131196.0</td>\n",
       "      <td>19171.0</td>\n",
       "      <td>9749.0</td>\n",
       "      <td>20278.0</td>\n",
       "      <td>75540.0</td>\n",
       "    </tr>\n",
       "    <tr>\n",
       "      <th>2018</th>\n",
       "      <td>152148.0</td>\n",
       "      <td>20303.0</td>\n",
       "      <td>13788.0</td>\n",
       "      <td>21824.0</td>\n",
       "      <td>90281.0</td>\n",
       "    </tr>\n",
       "    <tr>\n",
       "      <th>2019</th>\n",
       "      <td>170940.0</td>\n",
       "      <td>20642.0</td>\n",
       "      <td>17155.0</td>\n",
       "      <td>24697.0</td>\n",
       "      <td>103409.0</td>\n",
       "    </tr>\n",
       "    <tr>\n",
       "      <th>2020</th>\n",
       "      <td>123760.0</td>\n",
       "      <td>16249.0</td>\n",
       "      <td>6985.0</td>\n",
       "      <td>13942.0</td>\n",
       "      <td>78987.0</td>\n",
       "    </tr>\n",
       "  </tbody>\n",
       "</table>\n",
       "</div>"
      ],
      "text/plain": [
       "       mdr_coh  mdr_died  mdr_fail  mdr_lost  mdr_succ\n",
       "year                                                  \n",
       "2010   35432.0    5345.0    3204.0    5154.0   17573.0\n",
       "2011   52481.0    8608.0    5744.0    8396.0   25286.0\n",
       "2012   74011.0   12333.0    6890.0   12145.0   37060.0\n",
       "2013   92307.0   15667.0    7968.0   14371.0   47982.0\n",
       "2014  103002.0   16936.0    8464.0   15061.0   55854.0\n",
       "2015  114238.0   17629.0    9300.0   16170.0   63251.0\n",
       "2016  126173.0   19029.0    9698.0   18772.0   71112.0\n",
       "2017  131196.0   19171.0    9749.0   20278.0   75540.0\n",
       "2018  152148.0   20303.0   13788.0   21824.0   90281.0\n",
       "2019  170940.0   20642.0   17155.0   24697.0  103409.0\n",
       "2020  123760.0   16249.0    6985.0   13942.0   78987.0"
      ]
     },
     "execution_count": 20,
     "metadata": {},
     "output_type": "execute_result"
    }
   ],
   "source": [
    "mdr_df"
   ]
  },
  {
   "cell_type": "markdown",
   "metadata": {},
   "source": [
    "**The table above shows the number of mdr total cases recoreded(mdr_coh), the number of patients tthat died, had failed treatment, didnt finish treatment and had successful treatment from 2010 to 2020**"
   ]
  },
  {
   "cell_type": "code",
   "execution_count": 21,
   "metadata": {},
   "outputs": [],
   "source": [
    "mdr_df['per_succ'] = np.round((mdr_df['mdr_succ']/mdr_df['mdr_coh'])*100,1)"
   ]
  },
  {
   "cell_type": "code",
   "execution_count": 22,
   "metadata": {},
   "outputs": [],
   "source": [
    "mdr_df['per_died'] = np.round((mdr_df['mdr_died']/mdr_df['mdr_coh'])*100,1)"
   ]
  },
  {
   "cell_type": "code",
   "execution_count": 23,
   "metadata": {},
   "outputs": [
    {
     "data": {
      "text/html": [
       "<div>\n",
       "<style scoped>\n",
       "    .dataframe tbody tr th:only-of-type {\n",
       "        vertical-align: middle;\n",
       "    }\n",
       "\n",
       "    .dataframe tbody tr th {\n",
       "        vertical-align: top;\n",
       "    }\n",
       "\n",
       "    .dataframe thead th {\n",
       "        text-align: right;\n",
       "    }\n",
       "</style>\n",
       "<table border=\"1\" class=\"dataframe\">\n",
       "  <thead>\n",
       "    <tr style=\"text-align: right;\">\n",
       "      <th></th>\n",
       "      <th>mdr_coh</th>\n",
       "      <th>mdr_died</th>\n",
       "      <th>mdr_fail</th>\n",
       "      <th>mdr_lost</th>\n",
       "      <th>mdr_succ</th>\n",
       "      <th>per_succ</th>\n",
       "      <th>per_died</th>\n",
       "    </tr>\n",
       "    <tr>\n",
       "      <th>year</th>\n",
       "      <th></th>\n",
       "      <th></th>\n",
       "      <th></th>\n",
       "      <th></th>\n",
       "      <th></th>\n",
       "      <th></th>\n",
       "      <th></th>\n",
       "    </tr>\n",
       "  </thead>\n",
       "  <tbody>\n",
       "    <tr>\n",
       "      <th>2010</th>\n",
       "      <td>35432.0</td>\n",
       "      <td>5345.0</td>\n",
       "      <td>3204.0</td>\n",
       "      <td>5154.0</td>\n",
       "      <td>17573.0</td>\n",
       "      <td>49.6</td>\n",
       "      <td>15.1</td>\n",
       "    </tr>\n",
       "    <tr>\n",
       "      <th>2011</th>\n",
       "      <td>52481.0</td>\n",
       "      <td>8608.0</td>\n",
       "      <td>5744.0</td>\n",
       "      <td>8396.0</td>\n",
       "      <td>25286.0</td>\n",
       "      <td>48.2</td>\n",
       "      <td>16.4</td>\n",
       "    </tr>\n",
       "    <tr>\n",
       "      <th>2012</th>\n",
       "      <td>74011.0</td>\n",
       "      <td>12333.0</td>\n",
       "      <td>6890.0</td>\n",
       "      <td>12145.0</td>\n",
       "      <td>37060.0</td>\n",
       "      <td>50.1</td>\n",
       "      <td>16.7</td>\n",
       "    </tr>\n",
       "    <tr>\n",
       "      <th>2013</th>\n",
       "      <td>92307.0</td>\n",
       "      <td>15667.0</td>\n",
       "      <td>7968.0</td>\n",
       "      <td>14371.0</td>\n",
       "      <td>47982.0</td>\n",
       "      <td>52.0</td>\n",
       "      <td>17.0</td>\n",
       "    </tr>\n",
       "    <tr>\n",
       "      <th>2014</th>\n",
       "      <td>103002.0</td>\n",
       "      <td>16936.0</td>\n",
       "      <td>8464.0</td>\n",
       "      <td>15061.0</td>\n",
       "      <td>55854.0</td>\n",
       "      <td>54.2</td>\n",
       "      <td>16.4</td>\n",
       "    </tr>\n",
       "    <tr>\n",
       "      <th>2015</th>\n",
       "      <td>114238.0</td>\n",
       "      <td>17629.0</td>\n",
       "      <td>9300.0</td>\n",
       "      <td>16170.0</td>\n",
       "      <td>63251.0</td>\n",
       "      <td>55.4</td>\n",
       "      <td>15.4</td>\n",
       "    </tr>\n",
       "    <tr>\n",
       "      <th>2016</th>\n",
       "      <td>126173.0</td>\n",
       "      <td>19029.0</td>\n",
       "      <td>9698.0</td>\n",
       "      <td>18772.0</td>\n",
       "      <td>71112.0</td>\n",
       "      <td>56.4</td>\n",
       "      <td>15.1</td>\n",
       "    </tr>\n",
       "    <tr>\n",
       "      <th>2017</th>\n",
       "      <td>131196.0</td>\n",
       "      <td>19171.0</td>\n",
       "      <td>9749.0</td>\n",
       "      <td>20278.0</td>\n",
       "      <td>75540.0</td>\n",
       "      <td>57.6</td>\n",
       "      <td>14.6</td>\n",
       "    </tr>\n",
       "    <tr>\n",
       "      <th>2018</th>\n",
       "      <td>152148.0</td>\n",
       "      <td>20303.0</td>\n",
       "      <td>13788.0</td>\n",
       "      <td>21824.0</td>\n",
       "      <td>90281.0</td>\n",
       "      <td>59.3</td>\n",
       "      <td>13.3</td>\n",
       "    </tr>\n",
       "    <tr>\n",
       "      <th>2019</th>\n",
       "      <td>170940.0</td>\n",
       "      <td>20642.0</td>\n",
       "      <td>17155.0</td>\n",
       "      <td>24697.0</td>\n",
       "      <td>103409.0</td>\n",
       "      <td>60.5</td>\n",
       "      <td>12.1</td>\n",
       "    </tr>\n",
       "    <tr>\n",
       "      <th>2020</th>\n",
       "      <td>123760.0</td>\n",
       "      <td>16249.0</td>\n",
       "      <td>6985.0</td>\n",
       "      <td>13942.0</td>\n",
       "      <td>78987.0</td>\n",
       "      <td>63.8</td>\n",
       "      <td>13.1</td>\n",
       "    </tr>\n",
       "  </tbody>\n",
       "</table>\n",
       "</div>"
      ],
      "text/plain": [
       "       mdr_coh  mdr_died  mdr_fail  mdr_lost  mdr_succ  per_succ  per_died\n",
       "year                                                                      \n",
       "2010   35432.0    5345.0    3204.0    5154.0   17573.0      49.6      15.1\n",
       "2011   52481.0    8608.0    5744.0    8396.0   25286.0      48.2      16.4\n",
       "2012   74011.0   12333.0    6890.0   12145.0   37060.0      50.1      16.7\n",
       "2013   92307.0   15667.0    7968.0   14371.0   47982.0      52.0      17.0\n",
       "2014  103002.0   16936.0    8464.0   15061.0   55854.0      54.2      16.4\n",
       "2015  114238.0   17629.0    9300.0   16170.0   63251.0      55.4      15.4\n",
       "2016  126173.0   19029.0    9698.0   18772.0   71112.0      56.4      15.1\n",
       "2017  131196.0   19171.0    9749.0   20278.0   75540.0      57.6      14.6\n",
       "2018  152148.0   20303.0   13788.0   21824.0   90281.0      59.3      13.3\n",
       "2019  170940.0   20642.0   17155.0   24697.0  103409.0      60.5      12.1\n",
       "2020  123760.0   16249.0    6985.0   13942.0   78987.0      63.8      13.1"
      ]
     },
     "execution_count": 23,
     "metadata": {},
     "output_type": "execute_result"
    }
   ],
   "source": [
    "mdr_df"
   ]
  },
  {
   "cell_type": "markdown",
   "metadata": {},
   "source": [
    "**per_succ column is the percentage of total mdr tb patient that had successful treatment while per_died is the percentage that died**"
   ]
  },
  {
   "cell_type": "code",
   "execution_count": 24,
   "metadata": {},
   "outputs": [
    {
     "data": {
      "text/html": [
       "<div>\n",
       "<style scoped>\n",
       "    .dataframe tbody tr th:only-of-type {\n",
       "        vertical-align: middle;\n",
       "    }\n",
       "\n",
       "    .dataframe tbody tr th {\n",
       "        vertical-align: top;\n",
       "    }\n",
       "\n",
       "    .dataframe thead th {\n",
       "        text-align: right;\n",
       "    }\n",
       "</style>\n",
       "<table border=\"1\" class=\"dataframe\">\n",
       "  <thead>\n",
       "    <tr style=\"text-align: right;\">\n",
       "      <th></th>\n",
       "      <th>per_succ</th>\n",
       "      <th>per_died</th>\n",
       "    </tr>\n",
       "    <tr>\n",
       "      <th>year</th>\n",
       "      <th></th>\n",
       "      <th></th>\n",
       "    </tr>\n",
       "  </thead>\n",
       "  <tbody>\n",
       "    <tr>\n",
       "      <th>2010</th>\n",
       "      <td>49.6</td>\n",
       "      <td>15.1</td>\n",
       "    </tr>\n",
       "    <tr>\n",
       "      <th>2011</th>\n",
       "      <td>48.2</td>\n",
       "      <td>16.4</td>\n",
       "    </tr>\n",
       "    <tr>\n",
       "      <th>2012</th>\n",
       "      <td>50.1</td>\n",
       "      <td>16.7</td>\n",
       "    </tr>\n",
       "    <tr>\n",
       "      <th>2013</th>\n",
       "      <td>52.0</td>\n",
       "      <td>17.0</td>\n",
       "    </tr>\n",
       "    <tr>\n",
       "      <th>2014</th>\n",
       "      <td>54.2</td>\n",
       "      <td>16.4</td>\n",
       "    </tr>\n",
       "    <tr>\n",
       "      <th>2015</th>\n",
       "      <td>55.4</td>\n",
       "      <td>15.4</td>\n",
       "    </tr>\n",
       "    <tr>\n",
       "      <th>2016</th>\n",
       "      <td>56.4</td>\n",
       "      <td>15.1</td>\n",
       "    </tr>\n",
       "    <tr>\n",
       "      <th>2017</th>\n",
       "      <td>57.6</td>\n",
       "      <td>14.6</td>\n",
       "    </tr>\n",
       "    <tr>\n",
       "      <th>2018</th>\n",
       "      <td>59.3</td>\n",
       "      <td>13.3</td>\n",
       "    </tr>\n",
       "    <tr>\n",
       "      <th>2019</th>\n",
       "      <td>60.5</td>\n",
       "      <td>12.1</td>\n",
       "    </tr>\n",
       "    <tr>\n",
       "      <th>2020</th>\n",
       "      <td>63.8</td>\n",
       "      <td>13.1</td>\n",
       "    </tr>\n",
       "  </tbody>\n",
       "</table>\n",
       "</div>"
      ],
      "text/plain": [
       "      per_succ  per_died\n",
       "year                    \n",
       "2010      49.6      15.1\n",
       "2011      48.2      16.4\n",
       "2012      50.1      16.7\n",
       "2013      52.0      17.0\n",
       "2014      54.2      16.4\n",
       "2015      55.4      15.4\n",
       "2016      56.4      15.1\n",
       "2017      57.6      14.6\n",
       "2018      59.3      13.3\n",
       "2019      60.5      12.1\n",
       "2020      63.8      13.1"
      ]
     },
     "execution_count": 24,
     "metadata": {},
     "output_type": "execute_result"
    }
   ],
   "source": [
    "mdr_df[['per_succ','per_died']]"
   ]
  },
  {
   "cell_type": "code",
   "execution_count": 60,
   "metadata": {},
   "outputs": [
    {
     "data": {
      "text/plain": [
       "Text(0.5, 1.0, 'MDR TREATMENT SUCCESS RATE(%)')"
      ]
     },
     "execution_count": 60,
     "metadata": {},
     "output_type": "execute_result"
    },
    {
     "data": {
      "image/png": "[encoded data removed]",
      "text/plain": [
       "<Figure size 432x288 with 1 Axes>"
      ]
     },
     "metadata": {
      "needs_background": "light"
     },
     "output_type": "display_data"
    }
   ],
   "source": [
    "sns.barplot(data=mdr_df,y='per_succ',x=mdr_df.index)\n",
    "plt.ylabel('Percentage of successful mdr treatment')\n",
    "plt.ylim(20,80)\n",
    "plt.title('MDR TREATMENT SUCCESS RATE(%)')"
   ]
  },
  {
   "cell_type": "code",
   "execution_count": 61,
   "metadata": {},
   "outputs": [
    {
     "data": {
      "text/plain": [
       "Text(0.5, 1.0, 'MDR TREATMENT SUCCESS RATE(%)')"
      ]
     },
     "execution_count": 61,
     "metadata": {},
     "output_type": "execute_result"
    },
    {
     "data": {
      "image/png": "[encoded data removed]",
      "text/plain": [
       "<Figure size 432x288 with 1 Axes>"
      ]
     },
     "metadata": {
      "needs_background": "light"
     },
     "output_type": "display_data"
    }
   ],
   "source": [
    "sns.lineplot(data=mdr_df,y='per_succ',x='year')\n",
    "plt.ylabel('Percentage of successful mdr treatment')\n",
    "plt.ylim(45,75)\n",
    "plt.title('MDR TREATMENT SUCCESS RATE(%)')"
   ]
  },
  {
   "cell_type": "markdown",
   "metadata": {},
   "source": [
    "**The visualizations show that MDR TB treatment has progressed significantly over the years with higher success rates and lower death rates**"
   ]
  },
  {
   "cell_type": "code",
   "execution_count": 62,
   "metadata": {},
   "outputs": [
    {
     "data": {
      "text/plain": [
       "Text(0.5, 1.0, 'MDR TREATMENT DEATH RATE(%)')"
      ]
     },
     "execution_count": 62,
     "metadata": {},
     "output_type": "execute_result"
    },
    {
     "data": {
      "image/png": "[encoded data removed]",
      "text/plain": [
       "<Figure size 432x288 with 1 Axes>"
      ]
     },
     "metadata": {
      "needs_background": "light"
     },
     "output_type": "display_data"
    }
   ],
   "source": [
    "sns.lineplot(data=mdr_df,y='per_died',x='year')\n",
    "plt.ylabel('Death percentage of mdr treatment')\n",
    "plt.ylim(10,25)\n",
    "plt.title('MDR TREATMENT DEATH RATE(%)')"
   ]
  },
  {
   "cell_type": "markdown",
   "metadata": {},
   "source": [
    "## Extensively Drug-Resistant tuberculosis(XDR)"
   ]
  },
  {
   "cell_type": "markdown",
   "metadata": {},
   "source": [
    "**This is a more severe form of TB that is resistant to the standard first-line drugs AND second-line drugs(e.g.fluoroquinolones). It is more severe than both drug susceptible TB and MDR TB**"
   ]
  },
  {
   "cell_type": "code",
   "execution_count": 25,
   "metadata": {},
   "outputs": [],
   "source": [
    "xdr_df = outcomes_df.groupby(by=['year']).sum()[['xdr_coh','xdr_died','xdr_fail','xdr_lost','xdr_succ']]"
   ]
  },
  {
   "cell_type": "code",
   "execution_count": 26,
   "metadata": {},
   "outputs": [],
   "source": [
    "xdr_df = xdr_df.drop([1994,1995,1996,1997,1998,1999,2000,2001,2002,2003,2004,2005,2006,2001,2007,2008,2009,2021])"
   ]
  },
  {
   "cell_type": "code",
   "execution_count": 27,
   "metadata": {},
   "outputs": [
    {
     "data": {
      "text/html": [
       "<div>\n",
       "<style scoped>\n",
       "    .dataframe tbody tr th:only-of-type {\n",
       "        vertical-align: middle;\n",
       "    }\n",
       "\n",
       "    .dataframe tbody tr th {\n",
       "        vertical-align: top;\n",
       "    }\n",
       "\n",
       "    .dataframe thead th {\n",
       "        text-align: right;\n",
       "    }\n",
       "</style>\n",
       "<table border=\"1\" class=\"dataframe\">\n",
       "  <thead>\n",
       "    <tr style=\"text-align: right;\">\n",
       "      <th></th>\n",
       "      <th>xdr_coh</th>\n",
       "      <th>xdr_died</th>\n",
       "      <th>xdr_fail</th>\n",
       "      <th>xdr_lost</th>\n",
       "      <th>xdr_succ</th>\n",
       "    </tr>\n",
       "    <tr>\n",
       "      <th>year</th>\n",
       "      <th></th>\n",
       "      <th></th>\n",
       "      <th></th>\n",
       "      <th></th>\n",
       "      <th></th>\n",
       "    </tr>\n",
       "  </thead>\n",
       "  <tbody>\n",
       "    <tr>\n",
       "      <th>2010</th>\n",
       "      <td>884.0</td>\n",
       "      <td>376.0</td>\n",
       "      <td>105.0</td>\n",
       "      <td>91.0</td>\n",
       "      <td>164.0</td>\n",
       "    </tr>\n",
       "    <tr>\n",
       "      <th>2011</th>\n",
       "      <td>1276.0</td>\n",
       "      <td>433.0</td>\n",
       "      <td>123.0</td>\n",
       "      <td>171.0</td>\n",
       "      <td>281.0</td>\n",
       "    </tr>\n",
       "    <tr>\n",
       "      <th>2012</th>\n",
       "      <td>2729.0</td>\n",
       "      <td>834.0</td>\n",
       "      <td>514.0</td>\n",
       "      <td>352.0</td>\n",
       "      <td>699.0</td>\n",
       "    </tr>\n",
       "    <tr>\n",
       "      <th>2013</th>\n",
       "      <td>4236.0</td>\n",
       "      <td>1193.0</td>\n",
       "      <td>878.0</td>\n",
       "      <td>416.0</td>\n",
       "      <td>1202.0</td>\n",
       "    </tr>\n",
       "    <tr>\n",
       "      <th>2014</th>\n",
       "      <td>6777.0</td>\n",
       "      <td>1895.0</td>\n",
       "      <td>1449.0</td>\n",
       "      <td>695.0</td>\n",
       "      <td>2035.0</td>\n",
       "    </tr>\n",
       "    <tr>\n",
       "      <th>2015</th>\n",
       "      <td>8397.0</td>\n",
       "      <td>2198.0</td>\n",
       "      <td>1587.0</td>\n",
       "      <td>873.0</td>\n",
       "      <td>2888.0</td>\n",
       "    </tr>\n",
       "    <tr>\n",
       "      <th>2016</th>\n",
       "      <td>9267.0</td>\n",
       "      <td>2366.0</td>\n",
       "      <td>1639.0</td>\n",
       "      <td>1016.0</td>\n",
       "      <td>3573.0</td>\n",
       "    </tr>\n",
       "    <tr>\n",
       "      <th>2017</th>\n",
       "      <td>11214.0</td>\n",
       "      <td>2501.0</td>\n",
       "      <td>1986.0</td>\n",
       "      <td>1242.0</td>\n",
       "      <td>4806.0</td>\n",
       "    </tr>\n",
       "    <tr>\n",
       "      <th>2018</th>\n",
       "      <td>8214.0</td>\n",
       "      <td>1542.0</td>\n",
       "      <td>1265.0</td>\n",
       "      <td>894.0</td>\n",
       "      <td>4255.0</td>\n",
       "    </tr>\n",
       "    <tr>\n",
       "      <th>2019</th>\n",
       "      <td>14471.0</td>\n",
       "      <td>2505.0</td>\n",
       "      <td>1921.0</td>\n",
       "      <td>1506.0</td>\n",
       "      <td>7842.0</td>\n",
       "    </tr>\n",
       "    <tr>\n",
       "      <th>2020</th>\n",
       "      <td>19415.0</td>\n",
       "      <td>3396.0</td>\n",
       "      <td>2048.0</td>\n",
       "      <td>2017.0</td>\n",
       "      <td>11191.0</td>\n",
       "    </tr>\n",
       "  </tbody>\n",
       "</table>\n",
       "</div>"
      ],
      "text/plain": [
       "      xdr_coh  xdr_died  xdr_fail  xdr_lost  xdr_succ\n",
       "year                                                 \n",
       "2010    884.0     376.0     105.0      91.0     164.0\n",
       "2011   1276.0     433.0     123.0     171.0     281.0\n",
       "2012   2729.0     834.0     514.0     352.0     699.0\n",
       "2013   4236.0    1193.0     878.0     416.0    1202.0\n",
       "2014   6777.0    1895.0    1449.0     695.0    2035.0\n",
       "2015   8397.0    2198.0    1587.0     873.0    2888.0\n",
       "2016   9267.0    2366.0    1639.0    1016.0    3573.0\n",
       "2017  11214.0    2501.0    1986.0    1242.0    4806.0\n",
       "2018   8214.0    1542.0    1265.0     894.0    4255.0\n",
       "2019  14471.0    2505.0    1921.0    1506.0    7842.0\n",
       "2020  19415.0    3396.0    2048.0    2017.0   11191.0"
      ]
     },
     "execution_count": 27,
     "metadata": {},
     "output_type": "execute_result"
    }
   ],
   "source": [
    "xdr_df"
   ]
  },
  {
   "cell_type": "markdown",
   "metadata": {},
   "source": [
    "**The table above shows the number of xdr total cases recoreded, the number of patients tthat died, had failed treatment, didnt finish treatment and had successful treatment from 2010 to 2020**"
   ]
  },
  {
   "cell_type": "code",
   "execution_count": 28,
   "metadata": {},
   "outputs": [],
   "source": [
    "xdr_df['per_succ'] = np.round((xdr_df['xdr_succ']/xdr_df['xdr_coh'])*100,1)"
   ]
  },
  {
   "cell_type": "code",
   "execution_count": 29,
   "metadata": {},
   "outputs": [],
   "source": [
    "xdr_df['per_died'] = np.round((xdr_df['xdr_died']/xdr_df['xdr_coh'])*100,1)"
   ]
  },
  {
   "cell_type": "code",
   "execution_count": 30,
   "metadata": {},
   "outputs": [
    {
     "data": {
      "text/html": [
       "<div>\n",
       "<style scoped>\n",
       "    .dataframe tbody tr th:only-of-type {\n",
       "        vertical-align: middle;\n",
       "    }\n",
       "\n",
       "    .dataframe tbody tr th {\n",
       "        vertical-align: top;\n",
       "    }\n",
       "\n",
       "    .dataframe thead th {\n",
       "        text-align: right;\n",
       "    }\n",
       "</style>\n",
       "<table border=\"1\" class=\"dataframe\">\n",
       "  <thead>\n",
       "    <tr style=\"text-align: right;\">\n",
       "      <th></th>\n",
       "      <th>per_succ</th>\n",
       "      <th>per_died</th>\n",
       "    </tr>\n",
       "    <tr>\n",
       "      <th>year</th>\n",
       "      <th></th>\n",
       "      <th></th>\n",
       "    </tr>\n",
       "  </thead>\n",
       "  <tbody>\n",
       "    <tr>\n",
       "      <th>2010</th>\n",
       "      <td>18.6</td>\n",
       "      <td>42.5</td>\n",
       "    </tr>\n",
       "    <tr>\n",
       "      <th>2011</th>\n",
       "      <td>22.0</td>\n",
       "      <td>33.9</td>\n",
       "    </tr>\n",
       "    <tr>\n",
       "      <th>2012</th>\n",
       "      <td>25.6</td>\n",
       "      <td>30.6</td>\n",
       "    </tr>\n",
       "    <tr>\n",
       "      <th>2013</th>\n",
       "      <td>28.4</td>\n",
       "      <td>28.2</td>\n",
       "    </tr>\n",
       "    <tr>\n",
       "      <th>2014</th>\n",
       "      <td>30.0</td>\n",
       "      <td>28.0</td>\n",
       "    </tr>\n",
       "    <tr>\n",
       "      <th>2015</th>\n",
       "      <td>34.4</td>\n",
       "      <td>26.2</td>\n",
       "    </tr>\n",
       "    <tr>\n",
       "      <th>2016</th>\n",
       "      <td>38.6</td>\n",
       "      <td>25.5</td>\n",
       "    </tr>\n",
       "    <tr>\n",
       "      <th>2017</th>\n",
       "      <td>42.9</td>\n",
       "      <td>22.3</td>\n",
       "    </tr>\n",
       "    <tr>\n",
       "      <th>2018</th>\n",
       "      <td>51.8</td>\n",
       "      <td>18.8</td>\n",
       "    </tr>\n",
       "    <tr>\n",
       "      <th>2019</th>\n",
       "      <td>54.2</td>\n",
       "      <td>17.3</td>\n",
       "    </tr>\n",
       "    <tr>\n",
       "      <th>2020</th>\n",
       "      <td>57.6</td>\n",
       "      <td>17.5</td>\n",
       "    </tr>\n",
       "  </tbody>\n",
       "</table>\n",
       "</div>"
      ],
      "text/plain": [
       "      per_succ  per_died\n",
       "year                    \n",
       "2010      18.6      42.5\n",
       "2011      22.0      33.9\n",
       "2012      25.6      30.6\n",
       "2013      28.4      28.2\n",
       "2014      30.0      28.0\n",
       "2015      34.4      26.2\n",
       "2016      38.6      25.5\n",
       "2017      42.9      22.3\n",
       "2018      51.8      18.8\n",
       "2019      54.2      17.3\n",
       "2020      57.6      17.5"
      ]
     },
     "execution_count": 30,
     "metadata": {},
     "output_type": "execute_result"
    }
   ],
   "source": [
    "xdr_df[['per_succ','per_died']]"
   ]
  },
  {
   "cell_type": "markdown",
   "metadata": {},
   "source": [
    "**From the above table we can see how much more challenging and deadly XDR TB is but we can also see the improvements in treatment over the years**"
   ]
  },
  {
   "cell_type": "code",
   "execution_count": 63,
   "metadata": {},
   "outputs": [
    {
     "data": {
      "text/plain": [
       "Text(0.5, 1.0, 'XDR TREATMENT SUCCESS RATE(%)')"
      ]
     },
     "execution_count": 63,
     "metadata": {},
     "output_type": "execute_result"
    },
    {
     "data": {
      "image/png": "[encoded data removed]",
      "text/plain": [
       "<Figure size 432x288 with 1 Axes>"
      ]
     },
     "metadata": {
      "needs_background": "light"
     },
     "output_type": "display_data"
    }
   ],
   "source": [
    "sns.barplot(data=xdr_df,y='per_succ',x=xdr_df.index)\n",
    "plt.ylabel('Percentage of successful xdr treatment')\n",
    "plt.ylim(10,80)\n",
    "plt.title('XDR TREATMENT SUCCESS RATE(%)')"
   ]
  },
  {
   "cell_type": "code",
   "execution_count": 64,
   "metadata": {},
   "outputs": [
    {
     "data": {
      "text/plain": [
       "Text(0.5, 1.0, 'XDR TREATMENT SUCCESS RATE(%)')"
      ]
     },
     "execution_count": 64,
     "metadata": {},
     "output_type": "execute_result"
    },
    {
     "data": {
      "image/png": "[encoded data removed]",
      "text/plain": [
       "<Figure size 432x288 with 1 Axes>"
      ]
     },
     "metadata": {
      "needs_background": "light"
     },
     "output_type": "display_data"
    }
   ],
   "source": [
    "sns.lineplot(data=xdr_df,y='per_succ',x='year')\n",
    "plt.ylabel('Percentage of successful xdr treatment')\n",
    "plt.ylim(10,75)\n",
    "plt.title('XDR TREATMENT SUCCESS RATE(%)')"
   ]
  },
  {
   "cell_type": "code",
   "execution_count": 65,
   "metadata": {},
   "outputs": [
    {
     "data": {
      "text/plain": [
       "Text(0.5, 1.0, 'XDR TREATMENT DEATH RATE(%)')"
      ]
     },
     "execution_count": 65,
     "metadata": {},
     "output_type": "execute_result"
    },
    {
     "data": {
      "image/png": "[encoded data removed]",
      "text/plain": [
       "<Figure size 432x288 with 1 Axes>"
      ]
     },
     "metadata": {
      "needs_background": "light"
     },
     "output_type": "display_data"
    }
   ],
   "source": [
    "sns.lineplot(data=xdr_df,y='per_died',x='year')\n",
    "plt.ylabel('Death percentage of xdr treatment')\n",
    "#plt.ylim(10,25)\n",
    "plt.title('XDR TREATMENT DEATH RATE(%)')"
   ]
  },
  {
   "cell_type": "markdown",
   "metadata": {},
   "source": [
    "**The visualizations above also show how much better XDR TB treatment has become over the years**"
   ]
  },
  {
   "cell_type": "markdown",
   "metadata": {},
   "source": [
    "## Treatment of TB in HIV positive patients"
   ]
  },
  {
   "cell_type": "code",
   "execution_count": 39,
   "metadata": {},
   "outputs": [],
   "source": [
    "hiv_df = outcomes_df.groupby(by=['year']).sum()[['tbhiv_coh','tbhiv_died','tbhiv_fail','tbhiv_lost','tbhiv_succ']]"
   ]
  },
  {
   "cell_type": "code",
   "execution_count": 40,
   "metadata": {},
   "outputs": [],
   "source": [
    "hiv_df = hiv_df.drop([1994,1995,1996,1997,1998,1999,2000,2001,2002,2003,2004,2005,2006,2001,2007,2008,2009,2010,2011,2021])"
   ]
  },
  {
   "cell_type": "code",
   "execution_count": 41,
   "metadata": {},
   "outputs": [
    {
     "data": {
      "text/html": [
       "<div>\n",
       "<style scoped>\n",
       "    .dataframe tbody tr th:only-of-type {\n",
       "        vertical-align: middle;\n",
       "    }\n",
       "\n",
       "    .dataframe tbody tr th {\n",
       "        vertical-align: top;\n",
       "    }\n",
       "\n",
       "    .dataframe thead th {\n",
       "        text-align: right;\n",
       "    }\n",
       "</style>\n",
       "<table border=\"1\" class=\"dataframe\">\n",
       "  <thead>\n",
       "    <tr style=\"text-align: right;\">\n",
       "      <th></th>\n",
       "      <th>tbhiv_coh</th>\n",
       "      <th>tbhiv_died</th>\n",
       "      <th>tbhiv_fail</th>\n",
       "      <th>tbhiv_lost</th>\n",
       "      <th>tbhiv_succ</th>\n",
       "    </tr>\n",
       "    <tr>\n",
       "      <th>year</th>\n",
       "      <th></th>\n",
       "      <th></th>\n",
       "      <th></th>\n",
       "      <th></th>\n",
       "      <th></th>\n",
       "    </tr>\n",
       "  </thead>\n",
       "  <tbody>\n",
       "    <tr>\n",
       "      <th>2012</th>\n",
       "      <td>432974.0</td>\n",
       "      <td>44641.0</td>\n",
       "      <td>4434.0</td>\n",
       "      <td>25320.0</td>\n",
       "      <td>292937.0</td>\n",
       "    </tr>\n",
       "    <tr>\n",
       "      <th>2013</th>\n",
       "      <td>421684.0</td>\n",
       "      <td>43973.0</td>\n",
       "      <td>4418.0</td>\n",
       "      <td>25749.0</td>\n",
       "      <td>290621.0</td>\n",
       "    </tr>\n",
       "    <tr>\n",
       "      <th>2014</th>\n",
       "      <td>424274.0</td>\n",
       "      <td>45892.0</td>\n",
       "      <td>4706.0</td>\n",
       "      <td>25253.0</td>\n",
       "      <td>316613.0</td>\n",
       "    </tr>\n",
       "    <tr>\n",
       "      <th>2015</th>\n",
       "      <td>470051.0</td>\n",
       "      <td>49687.0</td>\n",
       "      <td>3028.0</td>\n",
       "      <td>26454.0</td>\n",
       "      <td>366847.0</td>\n",
       "    </tr>\n",
       "    <tr>\n",
       "      <th>2016</th>\n",
       "      <td>428367.0</td>\n",
       "      <td>46923.0</td>\n",
       "      <td>3195.0</td>\n",
       "      <td>24752.0</td>\n",
       "      <td>328896.0</td>\n",
       "    </tr>\n",
       "    <tr>\n",
       "      <th>2017</th>\n",
       "      <td>447226.0</td>\n",
       "      <td>48104.0</td>\n",
       "      <td>3823.0</td>\n",
       "      <td>27671.0</td>\n",
       "      <td>336808.0</td>\n",
       "    </tr>\n",
       "    <tr>\n",
       "      <th>2018</th>\n",
       "      <td>405769.0</td>\n",
       "      <td>46288.0</td>\n",
       "      <td>3879.0</td>\n",
       "      <td>21762.0</td>\n",
       "      <td>308685.0</td>\n",
       "    </tr>\n",
       "    <tr>\n",
       "      <th>2019</th>\n",
       "      <td>410839.0</td>\n",
       "      <td>45011.0</td>\n",
       "      <td>3894.0</td>\n",
       "      <td>26841.0</td>\n",
       "      <td>314625.0</td>\n",
       "    </tr>\n",
       "    <tr>\n",
       "      <th>2020</th>\n",
       "      <td>350200.0</td>\n",
       "      <td>37291.0</td>\n",
       "      <td>4825.0</td>\n",
       "      <td>20628.0</td>\n",
       "      <td>271118.0</td>\n",
       "    </tr>\n",
       "  </tbody>\n",
       "</table>\n",
       "</div>"
      ],
      "text/plain": [
       "      tbhiv_coh  tbhiv_died  tbhiv_fail  tbhiv_lost  tbhiv_succ\n",
       "year                                                           \n",
       "2012   432974.0     44641.0      4434.0     25320.0    292937.0\n",
       "2013   421684.0     43973.0      4418.0     25749.0    290621.0\n",
       "2014   424274.0     45892.0      4706.0     25253.0    316613.0\n",
       "2015   470051.0     49687.0      3028.0     26454.0    366847.0\n",
       "2016   428367.0     46923.0      3195.0     24752.0    328896.0\n",
       "2017   447226.0     48104.0      3823.0     27671.0    336808.0\n",
       "2018   405769.0     46288.0      3879.0     21762.0    308685.0\n",
       "2019   410839.0     45011.0      3894.0     26841.0    314625.0\n",
       "2020   350200.0     37291.0      4825.0     20628.0    271118.0"
      ]
     },
     "execution_count": 41,
     "metadata": {},
     "output_type": "execute_result"
    }
   ],
   "source": [
    "hiv_df"
   ]
  },
  {
   "cell_type": "code",
   "execution_count": 42,
   "metadata": {},
   "outputs": [],
   "source": [
    "hiv_df['per_succ'] = np.round((hiv_df['tbhiv_succ']/hiv_df['tbhiv_coh'])*100,1)"
   ]
  },
  {
   "cell_type": "code",
   "execution_count": 43,
   "metadata": {},
   "outputs": [],
   "source": [
    "hiv_df['per_died'] = np.round((hiv_df['tbhiv_died']/hiv_df['tbhiv_coh'])*100,1)"
   ]
  },
  {
   "cell_type": "code",
   "execution_count": 44,
   "metadata": {},
   "outputs": [
    {
     "data": {
      "text/html": [
       "<div>\n",
       "<style scoped>\n",
       "    .dataframe tbody tr th:only-of-type {\n",
       "        vertical-align: middle;\n",
       "    }\n",
       "\n",
       "    .dataframe tbody tr th {\n",
       "        vertical-align: top;\n",
       "    }\n",
       "\n",
       "    .dataframe thead th {\n",
       "        text-align: right;\n",
       "    }\n",
       "</style>\n",
       "<table border=\"1\" class=\"dataframe\">\n",
       "  <thead>\n",
       "    <tr style=\"text-align: right;\">\n",
       "      <th></th>\n",
       "      <th>per_succ</th>\n",
       "      <th>per_died</th>\n",
       "    </tr>\n",
       "    <tr>\n",
       "      <th>year</th>\n",
       "      <th></th>\n",
       "      <th></th>\n",
       "    </tr>\n",
       "  </thead>\n",
       "  <tbody>\n",
       "    <tr>\n",
       "      <th>2012</th>\n",
       "      <td>67.7</td>\n",
       "      <td>10.3</td>\n",
       "    </tr>\n",
       "    <tr>\n",
       "      <th>2013</th>\n",
       "      <td>68.9</td>\n",
       "      <td>10.4</td>\n",
       "    </tr>\n",
       "    <tr>\n",
       "      <th>2014</th>\n",
       "      <td>74.6</td>\n",
       "      <td>10.8</td>\n",
       "    </tr>\n",
       "    <tr>\n",
       "      <th>2015</th>\n",
       "      <td>78.0</td>\n",
       "      <td>10.6</td>\n",
       "    </tr>\n",
       "    <tr>\n",
       "      <th>2016</th>\n",
       "      <td>76.8</td>\n",
       "      <td>11.0</td>\n",
       "    </tr>\n",
       "    <tr>\n",
       "      <th>2017</th>\n",
       "      <td>75.3</td>\n",
       "      <td>10.8</td>\n",
       "    </tr>\n",
       "    <tr>\n",
       "      <th>2018</th>\n",
       "      <td>76.1</td>\n",
       "      <td>11.4</td>\n",
       "    </tr>\n",
       "    <tr>\n",
       "      <th>2019</th>\n",
       "      <td>76.6</td>\n",
       "      <td>11.0</td>\n",
       "    </tr>\n",
       "    <tr>\n",
       "      <th>2020</th>\n",
       "      <td>77.4</td>\n",
       "      <td>10.6</td>\n",
       "    </tr>\n",
       "  </tbody>\n",
       "</table>\n",
       "</div>"
      ],
      "text/plain": [
       "      per_succ  per_died\n",
       "year                    \n",
       "2012      67.7      10.3\n",
       "2013      68.9      10.4\n",
       "2014      74.6      10.8\n",
       "2015      78.0      10.6\n",
       "2016      76.8      11.0\n",
       "2017      75.3      10.8\n",
       "2018      76.1      11.4\n",
       "2019      76.6      11.0\n",
       "2020      77.4      10.6"
      ]
     },
     "execution_count": 44,
     "metadata": {},
     "output_type": "execute_result"
    }
   ],
   "source": [
    "hiv_df[['per_succ','per_died']]"
   ]
  },
  {
   "cell_type": "markdown",
   "metadata": {},
   "source": [
    "**The table above shows that successful treatments of TB in patients with HIV has improved from 67.7% to 77.4% between 2012 and 2020 while the deathrate seems to be constant at about 10.6%**"
   ]
  },
  {
   "cell_type": "code",
   "execution_count": 66,
   "metadata": {},
   "outputs": [
    {
     "data": {
      "text/plain": [
       "Text(0.5, 1.0, 'TB SUCCESS RATE FOR HIV+ PATIENTS(%)')"
      ]
     },
     "execution_count": 66,
     "metadata": {},
     "output_type": "execute_result"
    },
    {
     "data": {
      "image/png": "[encoded data removed]",
      "text/plain": [
       "<Figure size 432x288 with 1 Axes>"
      ]
     },
     "metadata": {
      "needs_background": "light"
     },
     "output_type": "display_data"
    }
   ],
   "source": [
    "sns.lineplot(data=hiv_df,y='per_succ',x='year')\n",
    "plt.ylabel('Percentage of successful treatment')\n",
    "plt.ylim(40,100)\n",
    "plt.title('TB SUCCESS RATE FOR HIV+ PATIENTS(%)')"
   ]
  },
  {
   "cell_type": "markdown",
   "metadata": {},
   "source": [
    "## Overall treatment success "
   ]
  },
  {
   "cell_type": "code",
   "execution_count": 48,
   "metadata": {},
   "outputs": [],
   "source": [
    "success_df = outcomes_df[['country','year','c_new_tsr', 'c_ret_tsr','c_tbhiv_tsr']]"
   ]
  },
  {
   "cell_type": "code",
   "execution_count": 49,
   "metadata": {},
   "outputs": [],
   "source": [
    "treatment_success_df = success_df.groupby(by=['year']).mean()"
   ]
  },
  {
   "cell_type": "code",
   "execution_count": 52,
   "metadata": {},
   "outputs": [],
   "source": [
    "treatment_success_df = treatment_success_df.drop([1994,1995,1996,1997,1998,1999,2000,2001,2002,2003,2004,2005,2006,2001,2007,2008,2009,2021])"
   ]
  },
  {
   "cell_type": "code",
   "execution_count": 53,
   "metadata": {},
   "outputs": [
    {
     "data": {
      "text/html": [
       "<div>\n",
       "<style scoped>\n",
       "    .dataframe tbody tr th:only-of-type {\n",
       "        vertical-align: middle;\n",
       "    }\n",
       "\n",
       "    .dataframe tbody tr th {\n",
       "        vertical-align: top;\n",
       "    }\n",
       "\n",
       "    .dataframe thead th {\n",
       "        text-align: right;\n",
       "    }\n",
       "</style>\n",
       "<table border=\"1\" class=\"dataframe\">\n",
       "  <thead>\n",
       "    <tr style=\"text-align: right;\">\n",
       "      <th></th>\n",
       "      <th>c_new_tsr</th>\n",
       "      <th>c_ret_tsr</th>\n",
       "      <th>c_tbhiv_tsr</th>\n",
       "    </tr>\n",
       "    <tr>\n",
       "      <th>year</th>\n",
       "      <th></th>\n",
       "      <th></th>\n",
       "      <th></th>\n",
       "    </tr>\n",
       "  </thead>\n",
       "  <tbody>\n",
       "    <tr>\n",
       "      <th>2010</th>\n",
       "      <td>77.335025</td>\n",
       "      <td>68.055215</td>\n",
       "      <td>58.370000</td>\n",
       "    </tr>\n",
       "    <tr>\n",
       "      <th>2011</th>\n",
       "      <td>77.108247</td>\n",
       "      <td>66.289157</td>\n",
       "      <td>58.873786</td>\n",
       "    </tr>\n",
       "    <tr>\n",
       "      <th>2012</th>\n",
       "      <td>78.293194</td>\n",
       "      <td>64.377483</td>\n",
       "      <td>57.256881</td>\n",
       "    </tr>\n",
       "    <tr>\n",
       "      <th>2013</th>\n",
       "      <td>78.914141</td>\n",
       "      <td>63.604027</td>\n",
       "      <td>61.747748</td>\n",
       "    </tr>\n",
       "    <tr>\n",
       "      <th>2014</th>\n",
       "      <td>78.484043</td>\n",
       "      <td>63.409396</td>\n",
       "      <td>62.432432</td>\n",
       "    </tr>\n",
       "    <tr>\n",
       "      <th>2015</th>\n",
       "      <td>79.324468</td>\n",
       "      <td>66.027397</td>\n",
       "      <td>64.201681</td>\n",
       "    </tr>\n",
       "    <tr>\n",
       "      <th>2016</th>\n",
       "      <td>79.005102</td>\n",
       "      <td>67.597315</td>\n",
       "      <td>63.153846</td>\n",
       "    </tr>\n",
       "    <tr>\n",
       "      <th>2017</th>\n",
       "      <td>78.842640</td>\n",
       "      <td>67.266667</td>\n",
       "      <td>68.891473</td>\n",
       "    </tr>\n",
       "    <tr>\n",
       "      <th>2018</th>\n",
       "      <td>78.713542</td>\n",
       "      <td>64.684564</td>\n",
       "      <td>65.326087</td>\n",
       "    </tr>\n",
       "    <tr>\n",
       "      <th>2019</th>\n",
       "      <td>79.083333</td>\n",
       "      <td>66.818841</td>\n",
       "      <td>66.474820</td>\n",
       "    </tr>\n",
       "    <tr>\n",
       "      <th>2020</th>\n",
       "      <td>79.273684</td>\n",
       "      <td>65.892086</td>\n",
       "      <td>70.022388</td>\n",
       "    </tr>\n",
       "  </tbody>\n",
       "</table>\n",
       "</div>"
      ],
      "text/plain": [
       "      c_new_tsr  c_ret_tsr  c_tbhiv_tsr\n",
       "year                                   \n",
       "2010  77.335025  68.055215    58.370000\n",
       "2011  77.108247  66.289157    58.873786\n",
       "2012  78.293194  64.377483    57.256881\n",
       "2013  78.914141  63.604027    61.747748\n",
       "2014  78.484043  63.409396    62.432432\n",
       "2015  79.324468  66.027397    64.201681\n",
       "2016  79.005102  67.597315    63.153846\n",
       "2017  78.842640  67.266667    68.891473\n",
       "2018  78.713542  64.684564    65.326087\n",
       "2019  79.083333  66.818841    66.474820\n",
       "2020  79.273684  65.892086    70.022388"
      ]
     },
     "execution_count": 53,
     "metadata": {},
     "output_type": "execute_result"
    }
   ],
   "source": [
    "treatment_success_df"
   ]
  },
  {
   "cell_type": "markdown",
   "metadata": {},
   "source": [
    "**Below is the average treatment success rate for all new cases in percent from 2010-2020**"
   ]
  },
  {
   "cell_type": "code",
   "execution_count": 55,
   "metadata": {},
   "outputs": [
    {
     "data": {
      "text/plain": [
       "78.58"
      ]
     },
     "execution_count": 55,
     "metadata": {},
     "output_type": "execute_result"
    }
   ],
   "source": [
    "#Treatment success rate for all new cases (including relapse cases if rel_with_new_flg = 1), percent\n",
    "\n",
    "np.round(treatment_success_df['c_new_tsr'].mean(),2)"
   ]
  },
  {
   "cell_type": "markdown",
   "metadata": {},
   "source": [
    "**Below is the treatment success rate for retreatment cases in percent from 2010-2020**"
   ]
  },
  {
   "cell_type": "code",
   "execution_count": 57,
   "metadata": {},
   "outputs": [
    {
     "data": {
      "text/plain": [
       "65.82"
      ]
     },
     "execution_count": 57,
     "metadata": {},
     "output_type": "execute_result"
    }
   ],
   "source": [
    "#Treatment success rate for re-treatment cases (excluding relapse cases if rel_with_new_flg = 1), percent\n",
    "\n",
    "np.round(treatment_success_df['c_ret_tsr'].mean(),2)"
   ]
  },
  {
   "cell_type": "markdown",
   "metadata": {},
   "source": [
    "**Below is the treatment success rate for HIV positive TB cases in percent from 2010-2020**"
   ]
  },
  {
   "cell_type": "code",
   "execution_count": 58,
   "metadata": {},
   "outputs": [
    {
     "data": {
      "text/plain": [
       "63.34"
      ]
     },
     "execution_count": 58,
     "metadata": {},
     "output_type": "execute_result"
    }
   ],
   "source": [
    "#Treatment success rate for HIV-positive TB cases, percent\n",
    "\n",
    "np.round(treatment_success_df['c_tbhiv_tsr'].mean(),2)"
   ]
  },
  {
   "cell_type": "code",
   "execution_count": null,
   "metadata": {},
   "outputs": [],
   "source": []
  }
 ],
 "metadata": {
  "kernelspec": {
   "display_name": "Python 3",
   "language": "python",
   "name": "python3"
  },
  "language_info": {
   "codemirror_mode": {
    "name": "ipython",
    "version": 3
   },
   "file_extension": ".py",
   "mimetype": "text/x-python",
   "name": "python",
   "nbconvert_exporter": "python",
   "pygments_lexer": "ipython3",
   "version": "3.8.5"
  }
 },
 "nbformat": 4,
 "nbformat_minor": 4
}
